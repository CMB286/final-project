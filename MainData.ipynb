{
 "cells": [
  {
   "cell_type": "markdown",
   "metadata": {},
   "source": [
    "# **Pittsburgh's Best Neighborhood**"
   ]
  },
  {
   "cell_type": "markdown",
   "metadata": {},
   "source": [
    "## Intro:"
   ]
  },
  {
   "cell_type": "markdown",
   "metadata": {},
   "source": []
  },
  {
   "cell_type": "markdown",
   "metadata": {},
   "source": [
    "## How We Determined the Best Neighborhood:"
   ]
  },
  {
   "cell_type": "markdown",
   "metadata": {},
   "source": []
  },
  {
   "cell_type": "markdown",
   "metadata": {},
   "source": [
    "### The Data:"
   ]
  },
  {
   "cell_type": "markdown",
   "metadata": {},
   "source": [
    "To show what the best neighborhood in Pittsburgh is we decided to look at which neighborhoods have the most smart trash cans and which has the LOWEST/HIGHEST(Unsure) firearm seizures."
   ]
  },
  {
   "cell_type": "code",
   "execution_count": 79,
   "metadata": {},
   "outputs": [],
   "source": [
    "import pandas as pd\n",
    "import numpy as np"
   ]
  },
  {
   "cell_type": "code",
   "execution_count": 80,
   "metadata": {},
   "outputs": [
    {
     "data": {
      "text/plain": [
       "neighborhood\n",
       "South Side Flats    66\n",
       "East Liberty        64\n",
       "Bloomfield          61\n",
       "North Shore         60\n",
       "Strip District      50\n",
       "dtype: int64"
      ]
     },
     "execution_count": 80,
     "metadata": {},
     "output_type": "execute_result"
    }
   ],
   "source": [
    "smart_trash = pd.read_csv(\"https://data.wprdc.org/datastore/dump/75b83ac9-8069-4cf1-bcc3-b9e6b04487d9\")\n",
    "smart_trash_grouped = smart_trash.groupby('neighborhood').size()\n",
    "smart_trash_grouped.sort_values(ascending=False).head()"
   ]
  },
  {
   "cell_type": "markdown",
   "metadata": {},
   "source": [
    "For this dataset, it already listed the neighborhoods. So to find the total number of smart trashcans per neighborhood, we sorted by the neighborhoods, then counted the total number of times those neighborhoods had unique entries appearing in the data. Doing it this got rid of multiple entries for the same trash can."
   ]
  },
  {
   "cell_type": "code",
   "execution_count": 82,
   "metadata": {},
   "outputs": [
    {
     "data": {
      "text/html": [
       "<div>\n",
       "<style scoped>\n",
       "    .dataframe tbody tr th:only-of-type {\n",
       "        vertical-align: middle;\n",
       "    }\n",
       "\n",
       "    .dataframe tbody tr th {\n",
       "        vertical-align: top;\n",
       "    }\n",
       "\n",
       "    .dataframe thead th {\n",
       "        text-align: right;\n",
       "    }\n",
       "</style>\n",
       "<table border=\"1\" class=\"dataframe\">\n",
       "  <thead>\n",
       "    <tr style=\"text-align: right;\">\n",
       "      <th></th>\n",
       "      <th>total_count</th>\n",
       "      <th>other_count</th>\n",
       "      <th>pistol_count</th>\n",
       "      <th>revolver_count</th>\n",
       "      <th>rifle_count</th>\n",
       "      <th>shotgun_count</th>\n",
       "      <th>year</th>\n",
       "      <th>month</th>\n",
       "      <th>dow</th>\n",
       "      <th>council_district</th>\n",
       "      <th>ward</th>\n",
       "      <th>tract</th>\n",
       "      <th>public_works_division</th>\n",
       "      <th>latitude</th>\n",
       "      <th>longitude</th>\n",
       "    </tr>\n",
       "    <tr>\n",
       "      <th>neighborhood</th>\n",
       "      <th></th>\n",
       "      <th></th>\n",
       "      <th></th>\n",
       "      <th></th>\n",
       "      <th></th>\n",
       "      <th></th>\n",
       "      <th></th>\n",
       "      <th></th>\n",
       "      <th></th>\n",
       "      <th></th>\n",
       "      <th></th>\n",
       "      <th></th>\n",
       "      <th></th>\n",
       "      <th></th>\n",
       "      <th></th>\n",
       "    </tr>\n",
       "  </thead>\n",
       "  <tbody>\n",
       "    <tr>\n",
       "      <th>Homewood South</th>\n",
       "      <td>193</td>\n",
       "      <td>3</td>\n",
       "      <td>137</td>\n",
       "      <td>33</td>\n",
       "      <td>9</td>\n",
       "      <td>11</td>\n",
       "      <td>292447</td>\n",
       "      <td>819</td>\n",
       "      <td>461</td>\n",
       "      <td>1305.0</td>\n",
       "      <td>1885.0</td>\n",
       "      <td>6.090454e+12</td>\n",
       "      <td>290.0</td>\n",
       "      <td>5865.933006</td>\n",
       "      <td>-11584.484892</td>\n",
       "    </tr>\n",
       "    <tr>\n",
       "      <th>South Side Flats</th>\n",
       "      <td>125</td>\n",
       "      <td>5</td>\n",
       "      <td>107</td>\n",
       "      <td>10</td>\n",
       "      <td>2</td>\n",
       "      <td>1</td>\n",
       "      <td>211795</td>\n",
       "      <td>651</td>\n",
       "      <td>354</td>\n",
       "      <td>315.0</td>\n",
       "      <td>1762.0</td>\n",
       "      <td>4.410333e+12</td>\n",
       "      <td>315.0</td>\n",
       "      <td>4244.939973</td>\n",
       "      <td>-8397.906542</td>\n",
       "    </tr>\n",
       "    <tr>\n",
       "      <th>Larimer</th>\n",
       "      <td>104</td>\n",
       "      <td>0</td>\n",
       "      <td>82</td>\n",
       "      <td>18</td>\n",
       "      <td>4</td>\n",
       "      <td>0</td>\n",
       "      <td>175448</td>\n",
       "      <td>520</td>\n",
       "      <td>257</td>\n",
       "      <td>783.0</td>\n",
       "      <td>1046.0</td>\n",
       "      <td>3.654272e+12</td>\n",
       "      <td>174.0</td>\n",
       "      <td>3520.124994</td>\n",
       "      <td>-6952.423170</td>\n",
       "    </tr>\n",
       "    <tr>\n",
       "      <th>Homewood North</th>\n",
       "      <td>98</td>\n",
       "      <td>1</td>\n",
       "      <td>67</td>\n",
       "      <td>18</td>\n",
       "      <td>9</td>\n",
       "      <td>3</td>\n",
       "      <td>159308</td>\n",
       "      <td>478</td>\n",
       "      <td>241</td>\n",
       "      <td>711.0</td>\n",
       "      <td>1027.0</td>\n",
       "      <td>3.318247e+12</td>\n",
       "      <td>158.0</td>\n",
       "      <td>3196.283480</td>\n",
       "      <td>-6311.477736</td>\n",
       "    </tr>\n",
       "    <tr>\n",
       "      <th>Carrick</th>\n",
       "      <td>97</td>\n",
       "      <td>3</td>\n",
       "      <td>58</td>\n",
       "      <td>12</td>\n",
       "      <td>18</td>\n",
       "      <td>6</td>\n",
       "      <td>145236</td>\n",
       "      <td>411</td>\n",
       "      <td>256</td>\n",
       "      <td>288.0</td>\n",
       "      <td>2097.0</td>\n",
       "      <td>3.024237e+12</td>\n",
       "      <td>216.0</td>\n",
       "      <td>2908.403370</td>\n",
       "      <td>-5759.036628</td>\n",
       "    </tr>\n",
       "  </tbody>\n",
       "</table>\n",
       "</div>"
      ],
      "text/plain": [
       "                  total_count  other_count  pistol_count  revolver_count  \\\n",
       "neighborhood                                                               \n",
       "Homewood South            193            3           137              33   \n",
       "South Side Flats          125            5           107              10   \n",
       "Larimer                   104            0            82              18   \n",
       "Homewood North             98            1            67              18   \n",
       "Carrick                    97            3            58              12   \n",
       "\n",
       "                  rifle_count  shotgun_count    year  month  dow  \\\n",
       "neighborhood                                                       \n",
       "Homewood South              9             11  292447    819  461   \n",
       "South Side Flats            2              1  211795    651  354   \n",
       "Larimer                     4              0  175448    520  257   \n",
       "Homewood North              9              3  159308    478  241   \n",
       "Carrick                    18              6  145236    411  256   \n",
       "\n",
       "                  council_district    ward         tract  \\\n",
       "neighborhood                                               \n",
       "Homewood South              1305.0  1885.0  6.090454e+12   \n",
       "South Side Flats             315.0  1762.0  4.410333e+12   \n",
       "Larimer                      783.0  1046.0  3.654272e+12   \n",
       "Homewood North               711.0  1027.0  3.318247e+12   \n",
       "Carrick                      288.0  2097.0  3.024237e+12   \n",
       "\n",
       "                  public_works_division     latitude     longitude  \n",
       "neighborhood                                                        \n",
       "Homewood South                    290.0  5865.933006 -11584.484892  \n",
       "South Side Flats                  315.0  4244.939973  -8397.906542  \n",
       "Larimer                           174.0  3520.124994  -6952.423170  \n",
       "Homewood North                    158.0  3196.283480  -6311.477736  \n",
       "Carrick                           216.0  2908.403370  -5759.036628  "
      ]
     },
     "execution_count": 82,
     "metadata": {},
     "output_type": "execute_result"
    }
   ],
   "source": [
    "firearm_seizures = pd.read_csv(\"https://data.wprdc.org/datastore/dump/e967381d-d7e9-48e3-a2a2-39262f7fa5c4\")\n",
    "firearm_grouped = firearm_seizures.groupby('neighborhood').sum()\n",
    "firearm_grouped.sort_values(by='total_count', ascending=False).head()\n",
    "##TODO: Decide if we want to have best neighborhood be lowest firearm seizures or highest firearm seizures (if highest could say south side flats is best)"
   ]
  },
  {
   "cell_type": "markdown",
   "metadata": {},
   "source": []
  }
 ],
 "metadata": {
  "kernelspec": {
   "display_name": "Python 3.7",
   "language": "python",
   "name": "python3"
  },
  "language_info": {
   "codemirror_mode": {
    "name": "ipython",
    "version": 3
   },
   "file_extension": ".py",
   "mimetype": "text/x-python",
   "name": "python",
   "nbconvert_exporter": "python",
   "pygments_lexer": "ipython3",
   "version": "3.7.0"
  }
 },
 "nbformat": 4,
 "nbformat_minor": 4
}
